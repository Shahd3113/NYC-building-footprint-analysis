{
 "cells": [
  {
   "attachments": {},
   "cell_type": "markdown",
   "id": "acbd0075-d01a-41b7-b647-5afa91543e5d",
   "metadata": {},
   "source": [
    "# 🏙️ NYC Building Footprint Analysis\n",
    "\n",
    "<img src=\"NYC_Building.webp\" width=\"900\"/>"
   ]
  },
  {
   "cell_type": "markdown",
   "id": "2111684d-2340-456c-956c-774bdace8c52",
   "metadata": {},
   "source": [
    "# 📚 Importing Required Libraries\n",
    "In this section, we import all necessary libraries for data analysis, visualization, geospatial processing, and automated reporting.\n"
   ]
  },
  {
   "cell_type": "code",
   "execution_count": null,
   "id": "a23c8080-38ad-4971-b6d7-839e9e873ab0",
   "metadata": {},
   "outputs": [],
   "source": [
    "import pandas as pd\n",
    "import numpy as np\n",
    "import matplotlib.pyplot as plt\n",
    "import seaborn as sns\n",
    "\n",
    "# Spatial tools\n",
    "import geopandas as gpd\n",
    "from shapely import wkt\n",
    "import folium\n",
    "\n",
    "from ydata_profiling import ProfileReport"
   ]
  },
  {
   "cell_type": "markdown",
   "id": "41c7a3a4-daaf-4e9e-a398-9f5591fe1c62",
   "metadata": {},
   "source": [
    "# 📥 Loading the Dataset\n",
    "We load the NYC building footprint dataset and perform a quick overview to understand its structure.\n"
   ]
  },
  {
   "cell_type": "code",
   "execution_count": null,
   "id": "65ec94f4-bc20-41d0-87ec-284974cea3c3",
   "metadata": {},
   "outputs": [],
   "source": [
    "df = pd.read_csv(\"C:/Users/Me/Downloads/building-footprints-pluto.csv\")\n",
    "\n",
    "# Convert 'the_geom' column to geometry\n",
    "df['geometry'] = df['the_geom'].apply(wkt.loads)\n",
    "gdf = gpd.GeoDataFrame(df, geometry='geometry')\n",
    "\n",
    "df['geometry'] = df['geometry'].apply(lambda x: x.wkt if x else None)\n"
   ]
  },
  {
   "cell_type": "markdown",
   "id": "f3c06a20-decb-4c94-848e-8a1991619fa0",
   "metadata": {},
   "source": [
    "# 🔍 Exploratory Data Analysis (EDA)\n",
    "We use `ydata_profiling` to automatically generate a comprehensive report that includes:\n",
    "\n",
    "- Dataset overview\n",
    "- Missing values\n",
    "- Duplicates\n",
    "- Data types\n",
    "- Univariate and multivariate analysis\n",
    "- Correlations\n",
    "- Warnings and data quality checks\n"
   ]
  },
  {
   "cell_type": "code",
   "execution_count": null,
   "id": "476181ed-fed7-4f1d-8956-6c354256a0ec",
   "metadata": {},
   "outputs": [],
   "source": [
    "profile = ProfileReport(df,title =\"NYC Building Footprint Report\",explorative=True)\n",
    "profile.to_notebook_iframe()"
   ]
  },
  {
   "cell_type": "markdown",
   "id": "f41b44b0-76ac-47da-9f57-268c3ac99430",
   "metadata": {},
   "source": [
    "# 🧹 Data Cleaning\n",
    "Based on the EDA report, we clean the dataset by handling missing values  correcting data types.\n"
   ]
  },
  {
   "cell_type": "markdown",
   "id": "0428d8d9-d7a6-4734-bab6-e8dce0b21a97",
   "metadata": {},
   "source": [
    "\n",
    "### 🪓1- Dropping Unnecessary Columns\n",
    "Removed non-informative or constant columns\n",
    "\n"
   ]
  },
  {
   "cell_type": "code",
   "execution_count": null,
   "id": "d4cce47f-e3cf-46f4-9cf3-385ab19eabab",
   "metadata": {},
   "outputs": [],
   "source": [
    "df.drop(columns=['NAME'], inplace=True)"
   ]
  },
  {
   "cell_type": "code",
   "execution_count": null,
   "id": "89f2c747-bf4c-42db-86b8-75dc1908a50a",
   "metadata": {},
   "outputs": [],
   "source": [
    "df.drop(columns=['SHAPE_AREA'], inplace=True)"
   ]
  },
  {
   "cell_type": "code",
   "execution_count": null,
   "id": "9ec17e59-26a0-43dd-946b-f2f91d517f95",
   "metadata": {},
   "outputs": [],
   "source": [
    "df.drop(columns=['SHAPE_LEN'], inplace=True)"
   ]
  },
  {
   "cell_type": "code",
   "execution_count": null,
   "id": "175beda6-5b5d-4994-acdf-574783bf9412",
   "metadata": {},
   "outputs": [],
   "source": [
    "print(df.columns)"
   ]
  },
  {
   "cell_type": "markdown",
   "id": "8fa58f70-6f01-48a5-841d-ae1e98679bf8",
   "metadata": {},
   "source": [
    "### 🧩 2- Handling Missing Values\n",
    "Detection of missing values\n",
    "Filling or dropping strategy (mean, mode, 0, or median)"
   ]
  },
  {
   "cell_type": "code",
   "execution_count": null,
   "id": "8904ce16-842f-4235-9cce-c4ff7407027f",
   "metadata": {},
   "outputs": [],
   "source": [
    "df['LSTSTATYPE'] = df['LSTSTATYPE'].fillna(df['LSTSTATYPE'].mode()[0])"
   ]
  },
  {
   "cell_type": "code",
   "execution_count": null,
   "id": "d0cf5776-3839-421d-ac97-3ccac1daec5d",
   "metadata": {},
   "outputs": [],
   "source": [
    "df[['LSTSTATYPE']].isnull().sum()"
   ]
  },
  {
   "cell_type": "code",
   "execution_count": null,
   "id": "2d50b6fd-b8b5-4e32-9c47-5e9c052e2d91",
   "metadata": {},
   "outputs": [],
   "source": [
    "median_HIGH = df['HEIGHTROOF'].median()\n",
    "#print(median_HIGH)\n",
    "df['HEIGHTROOF'] = df['HEIGHTROOF'].fillna(median_HIGH)"
   ]
  },
  {
   "cell_type": "code",
   "execution_count": null,
   "id": "4457c639-dd39-456e-bf27-2155d704c469",
   "metadata": {},
   "outputs": [],
   "source": [
    "df[['HEIGHTROOF']].isnull().sum()"
   ]
  },
  {
   "cell_type": "code",
   "execution_count": null,
   "id": "99c39d66-0950-4b0e-bcf8-b7cb7986d3c1",
   "metadata": {},
   "outputs": [],
   "source": [
    "Mean_GND = df['GROUNDELEV'].mean()\n",
    "df['GROUNDELEV'] = df['GROUNDELEV'].fillna(Mean_GND)"
   ]
  },
  {
   "cell_type": "code",
   "execution_count": null,
   "id": "ed89819c-1809-4939-ae00-8081499f9d7c",
   "metadata": {},
   "outputs": [],
   "source": [
    "df[['GROUNDELEV']].isnull().sum()"
   ]
  },
  {
   "cell_type": "code",
   "execution_count": null,
   "id": "8dd2293b-d54f-4af8-b941-f2172943ea9d",
   "metadata": {},
   "outputs": [],
   "source": [
    " df['GEOMSOURCE'] = df['GEOMSOURCE'].fillna('Other')"
   ]
  },
  {
   "cell_type": "code",
   "execution_count": null,
   "id": "d77c18dd-8e29-4d46-a123-469078098013",
   "metadata": {},
   "outputs": [],
   "source": [
    "df[['GEOMSOURCE']].isnull().sum()"
   ]
  },
  {
   "cell_type": "code",
   "execution_count": null,
   "id": "97f30ac5-b1bb-487b-9dee-0d7b0c6ac139",
   "metadata": {},
   "outputs": [],
   "source": [
    "df['zipcode'] = df['zipcode'].fillna(df['zipcode'].mode()[0])"
   ]
  },
  {
   "cell_type": "code",
   "execution_count": null,
   "id": "1e5b7ee7-1730-457b-9483-3c11fbadfa6d",
   "metadata": {},
   "outputs": [],
   "source": [
    "df[['zipcode']].isnull().sum()"
   ]
  },
  {
   "cell_type": "code",
   "execution_count": null,
   "id": "77bd9128-0bbb-4cfe-a36c-5d7445918b82",
   "metadata": {},
   "outputs": [],
   "source": [
    "df['bldgclass'] = df['bldgclass'].fillna(df['bldgclass'].mode()[0])"
   ]
  },
  {
   "cell_type": "code",
   "execution_count": null,
   "id": "af738262-121e-42a7-b1a0-c0e1eaa4d6cd",
   "metadata": {},
   "outputs": [],
   "source": [
    "df[['bldgclass']].isnull().sum()"
   ]
  },
  {
   "cell_type": "code",
   "execution_count": null,
   "id": "c625751f-e3f1-4ed2-b7a2-a7386cf4fe7e",
   "metadata": {},
   "outputs": [],
   "source": [
    "Mean_Xcord = df['xcoord'].mean()\n",
    "df['xcoord'] = df['xcoord'].fillna(Mean_Xcord)"
   ]
  },
  {
   "cell_type": "code",
   "execution_count": null,
   "id": "1d58baac-04c2-4b68-abec-723e0d620dfc",
   "metadata": {},
   "outputs": [],
   "source": [
    "Mean_ycord = df['ycoord'].mean()\n",
    "df['ycoord'] = df['ycoord'].fillna(Mean_Xcord)"
   ]
  },
  {
   "cell_type": "code",
   "execution_count": null,
   "id": "10e368b1-69c3-48eb-92cd-e35869cb267d",
   "metadata": {},
   "outputs": [],
   "source": [
    "Mean_latitude = df['latitude'].mean()\n",
    "df['latitude'] = df['latitude'].fillna(Mean_latitude)"
   ]
  },
  {
   "cell_type": "code",
   "execution_count": null,
   "id": "811af015-7a21-4177-af41-e5e032b034e5",
   "metadata": {},
   "outputs": [],
   "source": [
    "Mean_longitude = df['longitude'].mean()\n",
    "df['longitude'] = df['longitude'].fillna(Mean_longitude)"
   ]
  },
  {
   "cell_type": "code",
   "execution_count": null,
   "id": "5d6326a8-52a6-493b-b4f5-0270baada208",
   "metadata": {},
   "outputs": [],
   "source": [
    "df.isnull().sum()"
   ]
  },
  {
   "cell_type": "markdown",
   "id": "1eb467c3-fe8a-4a7d-b481-4138c4417636",
   "metadata": {},
   "source": [
    "### 🔄 3- Data Type Conversion"
   ]
  },
  {
   "cell_type": "code",
   "execution_count": null,
   "id": "4768bb69-8245-4f9b-8cde-b41289bc50fe",
   "metadata": {},
   "outputs": [],
   "source": [
    "df.dtypes"
   ]
  },
  {
   "cell_type": "code",
   "execution_count": null,
   "id": "d6327074-9e49-433d-8db1-21554b6e23fb",
   "metadata": {},
   "outputs": [],
   "source": [
    "df['LSTMODDATE'] = pd.to_datetime(df['LSTMODDATE'], format='%d/%m/%Y %I:%M:%S %p')"
   ]
  },
  {
   "cell_type": "code",
   "execution_count": null,
   "id": "3737706a-c585-4ecc-8499-4e153e70a25b",
   "metadata": {},
   "outputs": [],
   "source": [
    "df['zipcode'] = df['zipcode'].astype('Int64')"
   ]
  },
  {
   "cell_type": "code",
   "execution_count": null,
   "id": "518d139c-3752-435c-8e18-332511212ace",
   "metadata": {},
   "outputs": [],
   "source": [
    "from shapely import wkt\n",
    "\n",
    "def safe_wkt_load(val):\n",
    "    try:\n",
    "        return wkt.loads(val) if isinstance(val, str) else val\n",
    "    except:\n",
    "        return None\n",
    "\n",
    "df['the_geom'] = df['the_geom'].apply(safe_wkt_load)\n",
    "df['geometry'] = df['geometry'].apply(safe_wkt_load)\n"
   ]
  },
  {
   "cell_type": "code",
   "execution_count": null,
   "id": "d66539db-012f-4840-9823-63dad085f451",
   "metadata": {},
   "outputs": [],
   "source": [
    "import geopandas as gpd\n",
    "\n",
    "gdf = gpd.GeoDataFrame(df, geometry='geometry', crs='EPSG:4326')"
   ]
  },
  {
   "cell_type": "code",
   "execution_count": null,
   "id": "ff3ab6bd-10c3-440e-80ca-e8c7116b3311",
   "metadata": {},
   "outputs": [],
   "source": [
    "gdf.dtypes"
   ]
  },
  {
   "cell_type": "markdown",
   "id": "fa7716ae-a2b1-4886-b81d-ce69f9044c68",
   "metadata": {},
   "source": [
    "# 📊 Visual Questions & Charts\n"
   ]
  },
  {
   "cell_type": "markdown",
   "id": "589e43d3-ad3b-43cb-9aa4-dee293949f75",
   "metadata": {},
   "source": [
    "### 🏗️ How are buildings distributed by construction year?\n",
    "- Explore the historical development trends by analyzing the distribution of construction years (`CNSTRCT_YR`).\n"
   ]
  },
  {
   "cell_type": "code",
   "execution_count": null,
   "id": "b4f20368-d09e-453c-9a22-8da7784bdb71",
   "metadata": {},
   "outputs": [],
   "source": [
    "%matplotlib inline\n",
    "plt.figure(figsize=(10,5))\n",
    "sns.histplot(df['CNSTRCT_YR'], bins=50, kde=True)\n",
    "plt.title('Distribution of Construction Years')\n",
    "plt.xlabel('Construction Year')\n",
    "plt.ylabel('Number of Buildings')\n",
    "plt.show();"
   ]
  },
  {
   "cell_type": "markdown",
   "id": "acf8ce94-e216-4c29-93c3-6afe4957c082",
   "metadata": {},
   "source": [
    "### 🏢 What is the distribution of building heights?\n",
    "- Analyze how building heights vary across the city using the `HEIGHTROOF` attribute.\n"
   ]
  },
  {
   "cell_type": "code",
   "execution_count": null,
   "id": "1ef4292a-6677-4c6e-92a0-0d1e142399ff",
   "metadata": {},
   "outputs": [],
   "source": [
    "plt.figure(figsize=(10, 5))\n",
    "sns.histplot(data=df, x='HEIGHTROOF', bins=50, kde=True, color='salmon')\n",
    "plt.title('Distribution of Building Heights')\n",
    "plt.xlabel('Height of Building (feets)')\n",
    "plt.ylabel('Number of Buildings')\n",
    "plt.grid(True)\n",
    "plt.show()"
   ]
  },
  {
   "cell_type": "markdown",
   "id": "843f7aa6-29c6-492c-b999-9cb3c5dd1d02",
   "metadata": {},
   "source": [
    "### 🏢 What are the most common building types?\n",
    "- Analyze the most frequent building classes using the `bldgclass` column."
   ]
  },
  {
   "cell_type": "code",
   "execution_count": null,
   "id": "688e50e2-a7cb-46e3-906f-47e377f8241c",
   "metadata": {},
   "outputs": [],
   "source": [
    "top_classes = df['bldgclass'].value_counts().nlargest(10)\n",
    "top_classes.plot(kind='bar', title='Top 10 Building Classes', color='skyblue')\n",
    "plt.xlabel('Building Class')\n",
    "plt.ylabel('Count')\n",
    "plt.xticks(rotation=45)\n",
    "plt.tight_layout()\n",
    "plt.show()"
   ]
  },
  {
   "cell_type": "markdown",
   "id": "077dd5d9-ad87-4488-a5ab-b758a4198ada",
   "metadata": {},
   "source": [
    "### 🗺️ Distribution of Land Use Categories\n",
    "- Visualize the proportion or count of buildings by each `landuse` category"
   ]
  },
  {
   "cell_type": "code",
   "execution_count": null,
   "id": "6eec2629-8550-42d6-bf64-0fa7727bcd27",
   "metadata": {},
   "outputs": [],
   "source": [
    "landuse_counts = df['landuse'].value_counts()\n",
    "landuse_counts.plot(kind='pie', autopct='%1.1f%%',textprops={'fontsize': 5} ,figsize=(8,8), title='Land Use Distribution')\n",
    "plt.ylabel('')\n",
    "plt.show()"
   ]
  },
  {
   "cell_type": "markdown",
   "id": "d6dc1d5c-9673-4596-bb2c-3935ea10f79d",
   "metadata": {},
   "source": [
    "### 🏙️ Number of Buildings per Borough\n",
    "- Display the building count across the five boroughs using the `borough` column"
   ]
  },
  {
   "cell_type": "code",
   "execution_count": null,
   "id": "de3f5f89-8d21-47cd-9317-d069c2774088",
   "metadata": {},
   "outputs": [],
   "source": [
    "df['borough'].value_counts().plot(kind='barh', color='pink', title='Number of Buildings per Borough')\n",
    "plt.xlabel('Count')\n",
    "plt.ylabel('Borough')\n",
    "plt.show()"
   ]
  },
  {
   "cell_type": "markdown",
   "id": "b73110cd-1277-43a9-a515-d4e9b322801b",
   "metadata": {},
   "source": [
    "# 🌍🗺️ Spatial Analysis"
   ]
  },
  {
   "cell_type": "code",
   "execution_count": null,
   "id": "bfffb2a8-66a2-4ebf-9314-73d9bd98950c",
   "metadata": {},
   "outputs": [],
   "source": [
    "import folium\n",
    "from folium.plugins import MarkerCluster, HeatMap\n",
    "\n",
    "map_center = [df['latitude'].mean(), df['longitude'].mean()]\n",
    "m = folium.Map(location=map_center, zoom_start=11)\n",
    "\n",
    "marker_cluster = MarkerCluster(name=\"Building Info\").add_to(m)\n",
    "\n",
    "for _, row in df.iterrows():\n",
    "    if pd.notnull(row['latitude']) and pd.notnull(row['longitude']):\n",
    "        folium.Marker(\n",
    "            location=[row['latitude'], row['longitude']],\n",
    "            popup=f\"\"\"\n",
    "            <b>Borough:</b> {row['borough']}<br>\n",
    "            <b>Year Built:</b> {row['CNSTRCT_YR']}<br>\n",
    "            <b>Roof Height:</b> {row['HEIGHTROOF']} ft<br>\n",
    "            <b>Land Use:</b> {row['landuse']}<br>\n",
    "            <b>Building Class:</b> {row['bldgclass']}\n",
    "            \"\"\"\n",
    "        ).add_to(marker_cluster)\n",
    "\n",
    "\n",
    "heat_data = df[['latitude', 'longitude']].dropna().values.tolist()\n",
    "HeatMap(heat_data, name=\"Building Density Heatmap\").add_to(m)\n",
    "\n",
    "for _, row in df.iterrows():\n",
    "    if pd.notnull(row['HEIGHTROOF']):\n",
    "        folium.CircleMarker(\n",
    "            location=[row['latitude'], row['longitude']],\n",
    "            radius=3,\n",
    "            fill=True,\n",
    "            fill_opacity=0.5,\n",
    "            color='blue' if row['HEIGHTROOF'] < 50 else 'green' if row['HEIGHTROOF'] < 150 else 'red',\n",
    "            popup=f\"Height: {row['HEIGHTROOF']} ft\"\n",
    "        ).add_to(m)\n",
    "\n",
    "\n",
    "folium.LayerControl().add_to(m)\n",
    "m.save(\"city_buildings_analysis.html\")\n",
    "m\n",
    "\n"
   ]
  },
  {
   "cell_type": "markdown",
   "id": "01e6d67e-bf48-4854-bd74-704eeabee295",
   "metadata": {},
   "source": [
    "### 📍 Insights from Interactive Building Map\n",
    "\n",
    "1. **Building Information Clustering:**\n",
    "   - Marker Clustering allows for clear visualization of buildings’ attributes (like borough, construction year, roof height, land use, and building class) without overcrowding the map.\n",
    "   - Clicking on clusters or individual markers provides detailed popup info per building.\n",
    "\n",
    "2. **Building Density Hotspots:**\n",
    "   - The heatmap highlights areas with the highest concentration of buildings.\n",
    "   - These hotspots may indicate zones of urban intensity, potential congestion, or priority regions for city planning.\n",
    "\n",
    "3. **Building Height Classification by Color:**\n",
    "   - Buildings are color-coded by height:\n",
    "     - 🔵 Blue: Short buildings (< 50 ft)\n",
    "     - 🟢 Green: Medium buildings (50–150 ft)\n",
    "     - 🔴 Red: Tall buildings (> 150 ft)\n",
    "   - This offers immediate visual insight into the vertical profile of different city zones.\n",
    "\n",
    "4. **Data Layer Interactivity:**\n",
    "   - The map includes layer controls that allow toggling between:\n",
    "     - Marker Clusters\n",
    "     - Heatmap\n",
    "     - Circle height markers\n",
    "   - Users can interactively explore spatial patterns without overwhelming the view.\n",
    "\n",
    "5. **Exportable & Shareable Visualization:**\n",
    "   - The map is saved as `city_buildings_analysis.html`, making it easy to share or embed in dashboards, reports, or presentations.\n"
   ]
  },
  {
   "cell_type": "code",
   "execution_count": null,
   "id": "3f54927e-7dd2-4789-9a0f-14778acd3379",
   "metadata": {},
   "outputs": [],
   "source": [
    "fig, ax = plt.subplots(figsize=(12, 12))\n",
    "gdf.plot(ax=ax, color='lightblue', edgecolor='gray', linewidth=0.3)\n",
    "ax.set_title('Spatial Layout of City Structures', fontsize=16)\n",
    "ax.set_axis_off()\n",
    "plt.show()"
   ]
  },
  {
   "cell_type": "code",
   "execution_count": null,
   "id": "e7e7d943-9fb2-45c8-959e-c92db19d8104",
   "metadata": {},
   "outputs": [],
   "source": [
    "gdf.plot(column='borough', cmap='Set3', legend=True, figsize=(12, 12), edgecolor='black', linewidth=0.2)\n",
    "plt.title('Buildings Colored by Borough', fontsize=15)\n",
    "plt.axis('off')\n",
    "plt.show()"
   ]
  },
  {
   "cell_type": "code",
   "execution_count": null,
   "id": "d5569e78-03f8-49cd-9589-23b532137164",
   "metadata": {},
   "outputs": [],
   "source": [
    "def classify_age(year):\n",
    "    if year < 1950:\n",
    "        return 'Old'\n",
    "    elif year <= 2000:\n",
    "        return 'Mid'\n",
    "    else:\n",
    "        return 'New'\n",
    "\n",
    "gdf['age_group'] = gdf['CNSTRCT_YR'].apply(classify_age)\n",
    "\n",
    "gdf.plot(column='age_group', cmap='coolwarm', legend=True, figsize=(12, 12), edgecolor='black', linewidth=0.2)\n",
    "plt.title('Building Age Clusters', fontsize=15)\n",
    "plt.axis('off')\n",
    "plt.show()"
   ]
  },
  {
   "cell_type": "code",
   "execution_count": null,
   "id": "2afa7931-5635-40a6-b098-80d8daf7eaa0",
   "metadata": {},
   "outputs": [],
   "source": [
    "gdf.plot(column='borough', cmap='tab20', figsize=(12, 12), legend=True, edgecolor='black', linewidth=0.2)\n",
    "plt.title('Static Map: Buildings by Borough', fontsize=15)\n",
    "plt.axis('off')\n",
    "plt.show()"
   ]
  },
  {
   "cell_type": "code",
   "execution_count": null,
   "id": "a4ee70d6-0497-444c-afa6-071cbe03e0fc",
   "metadata": {},
   "outputs": [],
   "source": [
    "gdf['Tall_Building'] = gdf['HEIGHTROOF'] > 43\n",
    "\n",
    "\n",
    "fig, ax = plt.subplots(figsize=(14, 10))\n",
    "gdf.plot(ax=ax, \n",
    "         color=gdf['Tall_Building'].map({True: 'red', False: 'cyan'}), \n",
    "         edgecolor='black', linewidth=0.1)\n",
    "\n",
    "plt.title(\"Tall Buildings in NYC (Height > 43ft)\", fontsize=16)\n",
    "plt.axis('off')\n",
    "plt.show()"
   ]
  },
  {
   "cell_type": "markdown",
   "id": "6ee94763-2f28-40e1-adb3-200239cb3e0a",
   "metadata": {},
   "source": [
    "# 💡 Insights\n",
    "\n",
    "In this section, we summarize the most important findings from the spatial and statistical analysis of the dataset.\n"
   ]
  },
  {
   "cell_type": "markdown",
   "id": "aa92672c-9bc0-49af-9af9-76745465e63b",
   "metadata": {},
   "source": [
    "#### Key Insights\n",
    "\n",
    "1. **The year 2018 recorded the highest number of buildings**, indicating a potential peak in construction or data registration activity during that year.\n",
    "\n",
    "2. **Building class `B2` has the highest count among all classes**, suggesting a predominance of that building type in the dataset.\n",
    "\n",
    "3. **Land Use category `1` dominates the dataset**, accounting for **56.1%** of all buildings, indicating a major portion of buildings share the same land use type.\n",
    "\n",
    "4. **The borough `QN` (Queens) has the largest number of buildings**, followed by `SI` (Staten Island) and `BK` (Brooklyn), reflecting spatial distribution patterns across NYC boroughs.\n",
    "\n",
    "5. The **height of buildings** is mostly concentrated in a specific range, with a right-skewed distribution as visualized in the histogram, suggesting the majority of buildings are mid to low-rise structures.\n"
   ]
  }
 ],
 "metadata": {
  "kernelspec": {
   "display_name": "Python (eda-env)",
   "language": "python",
   "name": "eda-env"
  },
  "language_info": {
   "codemirror_mode": {
    "name": "ipython",
    "version": 3
   },
   "file_extension": ".py",
   "mimetype": "text/x-python",
   "name": "python",
   "nbconvert_exporter": "python",
   "pygments_lexer": "ipython3",
   "version": "3.10.18"
  }
 },
 "nbformat": 4,
 "nbformat_minor": 5
}
